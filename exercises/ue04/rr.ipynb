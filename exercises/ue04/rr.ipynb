{
 "cells": [
  {
   "cell_type": "code",
   "execution_count": 188,
   "metadata": {
    "collapsed": true
   },
   "outputs": [],
   "source": [
    "import pandas as pd\n",
    "import matplotlib.pyplot as plt\n",
    "from scipy.fftpack import fft\n",
    "from scipy import signal\n",
    "import numpy as np\n",
    "\n",
    "patient_df = pd.read_csv('rr/patient-info.csv')"
   ]
  },
  {
   "cell_type": "code",
   "execution_count": 189,
   "outputs": [
    {
     "data": {
      "text/plain": "              File         Age\ncount   147.000000  147.000000\nmean   3084.326531    5.713973\nstd    1661.459468   10.567148\nmin       0.000000    0.083000\n25%     426.500000    0.420000\n50%    4037.000000    1.000000\n75%    4081.500000    6.000000\nmax    4123.000000   55.000000",
      "text/html": "<div>\n<style scoped>\n    .dataframe tbody tr th:only-of-type {\n        vertical-align: middle;\n    }\n\n    .dataframe tbody tr th {\n        vertical-align: top;\n    }\n\n    .dataframe thead th {\n        text-align: right;\n    }\n</style>\n<table border=\"1\" class=\"dataframe\">\n  <thead>\n    <tr style=\"text-align: right;\">\n      <th></th>\n      <th>File</th>\n      <th>Age</th>\n    </tr>\n  </thead>\n  <tbody>\n    <tr>\n      <th>count</th>\n      <td>147.000000</td>\n      <td>147.000000</td>\n    </tr>\n    <tr>\n      <th>mean</th>\n      <td>3084.326531</td>\n      <td>5.713973</td>\n    </tr>\n    <tr>\n      <th>std</th>\n      <td>1661.459468</td>\n      <td>10.567148</td>\n    </tr>\n    <tr>\n      <th>min</th>\n      <td>0.000000</td>\n      <td>0.083000</td>\n    </tr>\n    <tr>\n      <th>25%</th>\n      <td>426.500000</td>\n      <td>0.420000</td>\n    </tr>\n    <tr>\n      <th>50%</th>\n      <td>4037.000000</td>\n      <td>1.000000</td>\n    </tr>\n    <tr>\n      <th>75%</th>\n      <td>4081.500000</td>\n      <td>6.000000</td>\n    </tr>\n    <tr>\n      <th>max</th>\n      <td>4123.000000</td>\n      <td>55.000000</td>\n    </tr>\n  </tbody>\n</table>\n</div>"
     },
     "execution_count": 189,
     "metadata": {},
     "output_type": "execute_result"
    }
   ],
   "source": [
    "patient_df.describe()"
   ],
   "metadata": {
    "collapsed": false,
    "pycharm": {
     "name": "#%%\n"
    }
   }
  },
  {
   "cell_type": "code",
   "execution_count": 190,
   "outputs": [
    {
     "data": {
      "text/plain": "   File   Age Gender\n0     0  53.0      M\n1     2  17.0      F\n2     3  46.0      F\n3     5  38.0      F\n4     6  32.0      M",
      "text/html": "<div>\n<style scoped>\n    .dataframe tbody tr th:only-of-type {\n        vertical-align: middle;\n    }\n\n    .dataframe tbody tr th {\n        vertical-align: top;\n    }\n\n    .dataframe thead th {\n        text-align: right;\n    }\n</style>\n<table border=\"1\" class=\"dataframe\">\n  <thead>\n    <tr style=\"text-align: right;\">\n      <th></th>\n      <th>File</th>\n      <th>Age</th>\n      <th>Gender</th>\n    </tr>\n  </thead>\n  <tbody>\n    <tr>\n      <th>0</th>\n      <td>0</td>\n      <td>53.0</td>\n      <td>M</td>\n    </tr>\n    <tr>\n      <th>1</th>\n      <td>2</td>\n      <td>17.0</td>\n      <td>F</td>\n    </tr>\n    <tr>\n      <th>2</th>\n      <td>3</td>\n      <td>46.0</td>\n      <td>F</td>\n    </tr>\n    <tr>\n      <th>3</th>\n      <td>5</td>\n      <td>38.0</td>\n      <td>F</td>\n    </tr>\n    <tr>\n      <th>4</th>\n      <td>6</td>\n      <td>32.0</td>\n      <td>M</td>\n    </tr>\n  </tbody>\n</table>\n</div>"
     },
     "execution_count": 190,
     "metadata": {},
     "output_type": "execute_result"
    }
   ],
   "source": [
    "patient_df.head()"
   ],
   "metadata": {
    "collapsed": false,
    "pycharm": {
     "name": "#%%\n"
    }
   }
  },
  {
   "cell_type": "code",
   "execution_count": 211,
   "outputs": [
    {
     "name": "stdout",
     "output_type": "stream",
     "text": [
      "0 .txt  53.0 years - 20.570840833119053\n",
      "2 .txt  17.0 years - 7.650621613006058\n",
      "3 .txt  46.0 years - 14.0\n",
      "5 .txt  38.0 years - 14.566642388929353\n",
      "6 .txt  32.0 years - 13.036393264530147\n",
      "7 .txt  51.0 years - 16.966726364407577\n",
      "9 .txt  24.0 years - 11.300499105377154\n",
      "10 .txt  55.0 years - 13.972985561248253\n",
      "11 .txt  17.0 years - 16.0\n",
      "13 .txt  39.0 years - 16.0\n",
      "401 .txt  12.0 years - 14.0\n",
      "402 .txt  10.0 years - 16.78008762934651\n",
      "403 .txt  13.0 years - 10.0\n",
      "404 .txt  5.0 years - 10.0\n",
      "405 .txt  15.0 years - 12.0\n",
      "406 .txt  15.0 years - 12.0\n",
      "407 .txt  6.0 years - 10.0\n",
      "408 .txt  13.0 years - 20.29083530605343\n",
      "409 .txt  10.0 years - 8.0\n",
      "410 .txt  12.0 years - 12.164216928535224\n",
      "411 .txt  8.0 years - 10.0\n",
      "412 .txt  8.0 years - 16.0\n",
      "413 .txt  12.0 years - 12.36730907966608\n",
      "414 .txt  11.0 years - 8.0\n",
      "415 .txt  11.0 years - 12.0\n",
      "416 .txt  11.0 years - 16.0\n",
      "418 .txt  10.0 years - 16.0\n",
      "419 .txt  14.0 years - 14.002333722287048\n",
      "420 .txt  10.0 years - 18.0\n"
     ]
    },
    {
     "name": "stderr",
     "output_type": "stream",
     "text": [
      "c:\\users\\andi\\documents\\github\\fh-mc-wc\\exercises\\ue04\\venv\\lib\\site-packages\\numpy\\ma\\core.py:5288: RuntimeWarning: Mean of empty slice.\n",
      "  result = super().mean(axis=axis, dtype=dtype, **kwargs)[()]\n",
      "c:\\users\\andi\\documents\\github\\fh-mc-wc\\exercises\\ue04\\venv\\lib\\site-packages\\numpy\\core\\fromnumeric.py:3715: RuntimeWarning: Degrees of freedom <= 0 for slice\n",
      "  return _methods._var(a, axis=axis, dtype=dtype, out=out, ddof=ddof,\n"
     ]
    },
    {
     "name": "stdout",
     "output_type": "stream",
     "text": [
      "421 .txt  12.0 years - 15.847860538827259\n",
      "422 .txt  7.0 years - 14.0\n",
      "423 .txt  11.0 years - 8.0\n",
      "424 .txt  7.0 years - 0.0\n",
      "426 .txt  12.0 years - 10.0\n",
      "427 .txt  9.0 years - 14.0\n"
     ]
    },
    {
     "name": "stderr",
     "output_type": "stream",
     "text": [
      "c:\\users\\andi\\documents\\github\\fh-mc-wc\\exercises\\ue04\\venv\\lib\\site-packages\\numpy\\ma\\core.py:5288: RuntimeWarning: Mean of empty slice.\n",
      "  result = super().mean(axis=axis, dtype=dtype, **kwargs)[()]\n",
      "c:\\users\\andi\\documents\\github\\fh-mc-wc\\exercises\\ue04\\venv\\lib\\site-packages\\numpy\\core\\fromnumeric.py:3715: RuntimeWarning: Degrees of freedom <= 0 for slice\n",
      "  return _methods._var(a, axis=axis, dtype=dtype, out=out, ddof=ddof,\n"
     ]
    },
    {
     "name": "stdout",
     "output_type": "stream",
     "text": [
      "4000 .txt  0.42 years - 13.042060645582\n",
      "4001 .txt  0.58 years - 16.0\n",
      "4002 .txt  1.08 years - 8.0\n",
      "4004 .txt  0.17 years - 16.0\n",
      "4005 .txt  0.33 years - 14.0\n",
      "4006 .txt  0.25 years - 11.60541586073501\n",
      "4007 .txt  0.42 years - 10.0\n",
      "4008 .txt  0.75 years - 10.0\n",
      "4009 .txt  0.083 years - 0.0\n",
      "4010 .txt  0.5 years - 12.0\n",
      "4011 .txt  0.42 years - 14.0\n",
      "4012 .txt  0.42 years - 8.0\n",
      "4013 .txt  1.75 years - 16.0\n",
      "4014 .txt  0.75 years - 14.0\n",
      "4015 .txt  1.17 years - 16.0\n",
      "4016 .txt  1.17 years - 14.0\n",
      "4017 .txt  0.33 years - 16.0\n",
      "4018 .txt  0.42 years - 8.0\n",
      "4019 .txt  0.42 years - 18.0\n"
     ]
    },
    {
     "name": "stderr",
     "output_type": "stream",
     "text": [
      "c:\\users\\andi\\documents\\github\\fh-mc-wc\\exercises\\ue04\\venv\\lib\\site-packages\\scipy\\interpolate\\_fitpack2.py:280: UserWarning: \n",
      "The maximal number of iterations maxit (set to 20 by the program)\n",
      "allowed for finding a smoothing spline with fp=s has been reached: s\n",
      "too small.\n",
      "There is an approximation returned but the corresponding weighted sum\n",
      "of squared residuals does not satisfy the condition abs(fp-s)/s < tol.\n",
      "  warnings.warn(message)\n"
     ]
    },
    {
     "name": "stdout",
     "output_type": "stream",
     "text": [
      "4020 .txt  2.25 years - 10.0\n",
      "4021 .txt  0.42 years - 12.0\n",
      "4022 .txt  0.75 years - 12.0\n",
      "4024 .txt  0.083 years - 8.0\n",
      "4025 .txt  1.0 years - 18.0\n",
      "4026 .txt  0.67 years - 12.0\n",
      "4027 .txt  0.5 years - 16.0\n",
      "4028 .txt  0.58 years - 10.0\n",
      "4029 .txt  0.5 years - 10.0\n",
      "4030 .txt  0.75 years - 10.0\n",
      "4031 .txt  0.58 years - 12.0\n",
      "4032 .txt  0.67 years - 12.0\n",
      "4033 .txt  0.33 years - 10.0\n",
      "4034 .txt  0.75 years - 0.0\n",
      "4035 .txt  0.42 years - 14.0\n",
      "4037 .txt  0.33 years - 19.083969465648856\n",
      "4038 .txt  0.83 years - 8.0\n",
      "4039 .txt  0.42 years - 0.0\n",
      "4040 .txt  0.17 years - 18.0\n",
      "4041 .txt  0.083 years - 10.0\n",
      "4042 .txt  1.08 years - 20.0\n",
      "4043 .txt  1.67 years - 8.0\n",
      "4045 .txt  1.0 years - 8.0\n",
      "4046 .txt  2.83 years - 20.0\n",
      "4047 .txt  2.75 years - 10.0\n",
      "4049 .txt  0.5 years - 16.0\n",
      "4050 .txt  0.83 years - 16.0\n",
      "4051 .txt  2.08 years - 10.0\n",
      "4052 .txt  0.17 years - 16.0\n",
      "4054 .txt  1.75 years - 12.0\n",
      "4055 .txt  0.83 years - 10.650761529449357\n",
      "4056 .txt  0.75 years - 8.0\n",
      "4058 .txt  0.42 years - 10.0\n",
      "4059 .txt  0.25 years - 18.0\n",
      "4060 .txt  0.25 years - 8.0\n",
      "4061 .txt  0.083 years - 18.0\n",
      "4062 .txt  0.33 years - 12.0\n",
      "4064 .txt  0.083 years - 10.0\n",
      "4065 .txt  0.5 years - 16.0\n",
      "4066 .txt  0.67 years - 14.0\n",
      "4067 .txt  5.17 years - 8.29875518672199\n",
      "4068 .txt  0.083 years - 8.0\n",
      "4069 .txt  2.17 years - 18.59456109088092\n",
      "4070 .txt  0.33 years - 16.0\n",
      "4072 .txt  0.83 years - 12.0\n",
      "4075 .txt  1.67 years - 6.522448092183932\n",
      "4076 .txt  3.42 years - 12.0\n",
      "4077 .txt  0.083 years - 10.0\n",
      "4081 .txt  0.17 years - 14.0\n",
      "4082 .txt  0.25 years - 10.0\n",
      "4083 .txt  0.75 years - 0.0\n",
      "4084 .txt  0.58 years - 10.0\n",
      "4085 .txt  0.58 years - 12.0\n",
      "4086 .txt  0.58 years - 16.0\n",
      "4087 .txt  0.17 years - 8.0\n",
      "4088 .txt  0.33 years - 11.107511454621187\n",
      "4089 .txt  0.17 years - 16.0\n",
      "4090 .txt  0.33 years - 14.683089974712455\n",
      "4091 .txt  1.5 years - 15.040106951871659\n",
      "4092 .txt  0.17 years - 12.0\n",
      "4096 .txt  0.92 years - 18.271638356906003\n",
      "4097 .txt  0.5 years - 21.034180543383\n",
      "4098 .txt  0.42 years - 11.298725754817651\n",
      "4099 .txt  0.42 years - 10.0\n",
      "4100 .txt  0.083 years - 16.0\n",
      "4101 .txt  0.42 years - 16.0\n",
      "4102 .txt  1.08 years - 12.0\n",
      "4106 .txt  2.5 years - 16.0\n",
      "4107 .txt  2.92 years - 18.0\n",
      "4108 .txt  3.0 years - 14.0\n",
      "4109 .txt  0.67 years - 10.0\n",
      "4110 .txt  2.08 years - 15.236160487557134\n",
      "4111 .txt  2.58 years - 12.0\n",
      "4112 .txt  3.42 years - 10.131712259371835\n",
      "4113 .txt  2.67 years - 20.0\n",
      "4114 .txt  5.83 years - 12.0\n",
      "4115 .txt  6.0 years - 12.0\n",
      "4116 .txt  4.0 years - 8.0\n",
      "4117 .txt  5.42 years - 18.0\n",
      "4118 .txt  5.0 years - 8.0\n",
      "4119 .txt  0.67 years - 12.0\n",
      "4120 .txt  4.5 years - 10.0\n"
     ]
    }
   ],
   "source": [
    "import heartpy as hp\n",
    "for index, row in patient_df.iterrows():\n",
    "    try:\n",
    "        file_path = f'rr/{str(row[0]).zfill(3)}.txt'\n",
    "        series = pd.read_csv(file_path, header=None).squeeze()\n",
    "        timestamps = pd.TimedeltaIndex([x*7.8125 for x in range(0, len(series))])\n",
    "        series = series.set_axis(timestamps)\n",
    "        rr = hp.process(series, sample_rate=128)\n",
    "        print(row[0], \".txt \", row[1], \"years -\", rr[1]['breathingrate'] * 60)\n",
    "        patient_df.at[index, 'respiration_rate'] = rr[1]['breathingrate'] * 60\n",
    "    except Exception as e:\n",
    "        patient_df.at[index, 'respiration_rate'] = 0\n",
    "        #print(\"Error while calculating breathing rate\", e)\n",
    "patient_df.to_csv('patients_with_breathing')"
   ],
   "metadata": {
    "collapsed": false,
    "pycharm": {
     "name": "#%%\n"
    }
   }
  },
  {
   "cell_type": "code",
   "execution_count": 194,
   "outputs": [
    {
     "data": {
      "text/plain": "80441"
     },
     "execution_count": 194,
     "metadata": {},
     "output_type": "execute_result"
    }
   ],
   "source": [
    "file_path = f'rr/{str(patient_df.iloc[0][\"File\"]).zfill(3)}.txt'\n",
    "series = pd.read_csv(file_path, header=None).squeeze()\n",
    "timestamps = pd.TimedeltaIndex([x*7.8125 for x in range(0, len(series))])\n",
    "series = series.set_axis(timestamps)"
   ],
   "metadata": {
    "collapsed": false,
    "pycharm": {
     "name": "#%%\n"
    }
   }
  },
  {
   "cell_type": "code",
   "execution_count": 195,
   "outputs": [],
   "source": [
    "resampled_data = signal.resample(series, 200)"
   ],
   "metadata": {
    "collapsed": false,
    "pycharm": {
     "name": "#%%\n"
    }
   }
  },
  {
   "cell_type": "code",
   "execution_count": 196,
   "outputs": [
    {
     "data": {
      "text/plain": "<Figure size 640x480 with 1 Axes>",
      "image/png": "[encoded data removed]"
     },
     "metadata": {},
     "output_type": "display_data"
    }
   ],
   "source": [
    "offset_series = pd.concat([pd.Series([0]), series])\n",
    "for i in range(0, len(series)):\n",
    "    x = offset_series.iloc[i]\n",
    "#    y = series.iloc[i]\n",
    "#    series.iloc[i] = y - x\n",
    "series.plot(figsize=(25,10))"
   ],
   "metadata": {
    "collapsed": false,
    "pycharm": {
     "name": "#%%\n"
    }
   }
  },
  {
   "cell_type": "code",
   "execution_count": 197,
   "outputs": [],
   "source": [
    "fft_data = np.abs(fft(resampled_data))"
   ],
   "metadata": {
    "collapsed": false,
    "pycharm": {
     "name": "#%%\n"
    }
   }
  },
  {
   "cell_type": "code",
   "execution_count": 204,
   "outputs": [
    {
     "data": {
      "text/plain": "943.3881975609454"
     },
     "execution_count": 204,
     "metadata": {},
     "output_type": "execute_result"
    }
   ],
   "source": [
    "peak = np.mean(resampled_data)\n",
    "peak"
   ],
   "metadata": {
    "collapsed": false,
    "pycharm": {
     "name": "#%%\n"
    }
   }
  },
  {
   "cell_type": "code",
   "execution_count": 206,
   "outputs": [
    {
     "name": "stdout",
     "output_type": "stream",
     "text": [
      "Breathing rate: 63.600541277837905 breaths per minute\n"
     ]
    }
   ],
   "source": [
    "# Calculate the breathing rate (in breaths per minute)\n",
    "breathing_rate = 1 / peak * 60 * 1000\n",
    "\n",
    "print(\"Breathing rate:\", breathing_rate, \"breaths per minute\")"
   ],
   "metadata": {
    "collapsed": false,
    "pycharm": {
     "name": "#%%\n"
    }
   }
  },
  {
   "cell_type": "code",
   "execution_count": 200,
   "outputs": [],
   "source": [],
   "metadata": {
    "collapsed": false,
    "pycharm": {
     "name": "#%%\n"
    }
   }
  }
 ],
 "metadata": {
  "kernelspec": {
   "display_name": "Python 3",
   "language": "python",
   "name": "python3"
  },
  "language_info": {
   "codemirror_mode": {
    "name": "ipython",
    "version": 2
   },
   "file_extension": ".py",
   "mimetype": "text/x-python",
   "name": "python",
   "nbconvert_exporter": "python",
   "pygments_lexer": "ipython2",
   "version": "2.7.6"
  }
 },
 "nbformat": 4,
 "nbformat_minor": 0
}